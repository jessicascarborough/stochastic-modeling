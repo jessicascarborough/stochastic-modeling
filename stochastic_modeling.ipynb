{
 "cells": [
  {
   "cell_type": "markdown",
   "metadata": {},
   "source": [
    "# Stochastic Modeling\n",
    "\n",
    "Here, we're going to work through some basic stochastic modeling using the Moran process. \n"
   ]
  },
  {
   "cell_type": "markdown",
   "metadata": {},
   "source": [
    "### Document Setup\n",
    "\n",
    "First, we'll import the necessary libraries and adjust naming appropriately"
   ]
  },
  {
   "cell_type": "code",
   "execution_count": 1,
   "metadata": {},
   "outputs": [],
   "source": [
    "import numpy as np\n",
    "import matplotlib.pyplot as plt\n",
    "import pandas as pd\n",
    "import seaborn as sns\n",
    "sns.set(style=\"ticks\")\n",
    "%matplotlib inline"
   ]
  },
  {
   "cell_type": "markdown",
   "metadata": {},
   "source": [
    "## Neutral Moran\n",
    "\n",
    "Let's start with looking at neutral moran process and the time to fixation based on starting populations. "
   ]
  },
  {
   "cell_type": "code",
   "execution_count": 2,
   "metadata": {},
   "outputs": [],
   "source": [
    "def neutral_moran(N, i=1, seed=0):\n",
    "    \"\"\"\n",
    "    Return the population counts for the Moran process with neutral drift.\n",
    "    \"\"\"\n",
    "\n",
    "    population = [0 for _ in range(i)] + [1 for _ in range(N - i)]\n",
    "    # print(population)\n",
    "    counts = {\"wt\": population.count(0), \"mutant\": population.count(1)}\n",
    "    counts = pd.DataFrame(counts, index=[0])\n",
    "    np.random.seed(seed)\n",
    "    while len(set(population)) == 2:\n",
    "        reproduce_index = np.random.randint(N)\n",
    "        eliminate_index = np.random.randint(N)\n",
    "        # Replace random population member with the allele of the member chosen to reproduce\n",
    "        population[eliminate_index] = population[reproduce_index]\n",
    "        new_counts = {\"wt\": population.count(0), \n",
    "                      \"mutant\": population.count(1)}\n",
    "        counts = counts.append(new_counts, ignore_index=True)\n",
    "    return counts"
   ]
  },
  {
   "cell_type": "markdown",
   "metadata": {},
   "source": [
    "And we'll run it with a starting population of 10, split equally between each allele. In the plot below, blue represents wild-type while orange represents the mutatant allele. "
   ]
  },
  {
   "cell_type": "code",
   "execution_count": 3,
   "metadata": {},
   "outputs": [],
   "source": [
    "N = 10\n",
    "neutral_counts = neutral_moran(N=N, i=5, seed=2020)\n"
   ]
  },
  {
   "cell_type": "code",
   "execution_count": 4,
   "metadata": {},
   "outputs": [
    {
     "data": {
      "image/png": "[encoded data removed]",
      "text/plain": [
       "<Figure size 432x288 with 1 Axes>"
      ]
     },
     "metadata": {
      "needs_background": "light"
     },
     "output_type": "display_data"
    }
   ],
   "source": [
    "plt.plot(neutral_counts);"
   ]
  },
  {
   "cell_type": "code",
   "execution_count": 5,
   "metadata": {},
   "outputs": [],
   "source": [
    "def neutral_fixation(N, i=None, repetitions=10):\n",
    "    \"\"\"\n",
    "    Repeat the neutral Moran process and calculate the fixation probability\n",
    "    \"\"\"\n",
    "    fixation_count = 0\n",
    "    for seed in range(repetitions):\n",
    "        final_counts = neutral_moran(N=N, i=i, seed=seed)\n",
    "        # if final_counts[-1][0] > 0:\n",
    "        if final_counts.iloc[-1][0] > 0:\n",
    "            fixation_count += 1 \n",
    "    return  fixation_count / repetitions "
   ]
  },
  {
   "cell_type": "code",
   "execution_count": 6,
   "metadata": {},
   "outputs": [
    {
     "data": {
      "image/png": "[encoded data removed]",
      "text/plain": [
       "<Figure size 432x288 with 1 Axes>"
      ]
     },
     "metadata": {
      "needs_background": "light"
     },
     "output_type": "display_data"
    }
   ],
   "source": [
    "probabilities = [neutral_fixation(N, i=i, repetitions=100) for i in range(1, N)]\n",
    "plt.scatter(range(1, N), probabilities)\n",
    "plt.xlabel(\"$i$\")\n",
    "plt.ylabel(\"$x_i$\");"
   ]
  },
  {
   "cell_type": "markdown",
   "metadata": {},
   "source": [
    "## Moran with Selection\n",
    "\n",
    "Now, let's change the fitness of alleles. First, we'll start by defining a moran process function that takes sample size, initial wt allele starting size, fitness of mutant allele (ratio between mutant and wt allele), a set amount of time steps, and a seed."
   ]
  },
  {
   "cell_type": "code",
   "execution_count": 7,
   "metadata": {},
   "outputs": [],
   "source": [
    "def moran_selection(N, i=None, fitness = 1.5, time_steps = 5000, seed = 0, stopFixation = False):\n",
    "    \"\"\"\n",
    "    Return the population counts for the Moran process with selection due to differences in allele fitness.\n",
    "    \"\"\"\n",
    "    population = [0 for _ in range(i)] + [1 for _ in range(N - i)]\n",
    "    count1 = [population.count(1)] # initialize list of mutant allele counts\n",
    "    np.random.seed(seed)\n",
    "    # while len(set(population)) == 2: # if you want it to run until fixation, use this instead of time\n",
    "    time = 1\n",
    "    while time < (time_steps): # cutoff for how many steps we'll do\n",
    "        time += 1\n",
    "        scores = []\n",
    "        for count, i in enumerate(population): # change all 0's to 1 and all 1's to the fitness value\n",
    "            if i == 0: \n",
    "                scores.append(1)\n",
    "            if i == 1: \n",
    "                scores.append(fitness)\n",
    "        total_score = sum(scores)\n",
    "        probabilities = [score/total_score for score in scores] # convert fitness scores into probabilities\n",
    "        reproduce_index = np.random.choice(range(N), p=probabilities) # choose which individual to reproduce weighted by fitness score\n",
    "        eliminate_index = np.random.randint(N) # who gets eliminated is completely random still\n",
    "        population[eliminate_index] = population[reproduce_index] # replace eliminated individual with reproduced individual\n",
    "        count1.append(population.count(1)) # update counts for this timestep with the current mutant allele count\n",
    "        # Setting stopFixation to true will stop the run once an allele reaches \n",
    "        # fixation even if it's before the set timesteps\n",
    "        if stopFixation == True:\n",
    "            if len(set(population)) < 2:\n",
    "                break\n",
    "    return [count/N for count in count1] # return as proportion\n",
    "\n"
   ]
  },
  {
   "cell_type": "markdown",
   "metadata": {},
   "source": [
    "Let's look at an example of a single run, starting with a population of 1000 (starting 50/50 between wt/mutant allele), where the mutant allele has a fitness ratio of 2:1 compared to the wild type. We'll run it for 20000 timesteps. If `stopFixation = False`, it will run all 20,000 steps. If `stopFixation = True`, the function will stop once an allele becomes fixed or at 20,000 timesteps (whichever comes first). "
   ]
  },
  {
   "cell_type": "code",
   "execution_count": 22,
   "metadata": {},
   "outputs": [],
   "source": [
    "mut_prop = moran_selection(N = 1000, i = 500, fitness = 2, time_steps = 20000, seed = 2020, stopFixation = True)"
   ]
  },
  {
   "cell_type": "code",
   "execution_count": 24,
   "metadata": {},
   "outputs": [
    {
     "data": {
      "image/png": "[encoded data removed]",
      "text/plain": [
       "<Figure size 432x288 with 1 Axes>"
      ]
     },
     "metadata": {
      "needs_background": "light"
     },
     "output_type": "display_data"
    }
   ],
   "source": [
    "plt.plot(mut_prop);"
   ]
  },
  {
   "cell_type": "markdown",
   "metadata": {},
   "source": [
    "We'll run this moran process over a range of starting sample sizes and fitnesses. Additionally, we'll run each parameter combination `sim_n` times in order to gather variance data."
   ]
  },
  {
   "cell_type": "code",
   "execution_count": 14,
   "metadata": {},
   "outputs": [],
   "source": [
    "time_steps = 5000\n",
    "\n",
    "fitness_range = [0.5, 0.75, 0.9, 0.99, 1, 1.01, 1.1, 1.5, 2] #fitness ratio of mutant:wt allele\n",
    "N_range = [100, 1000] # population size\n",
    "sim_n = 20 # how many times we run the same simulation with different seeds\n",
    "\n",
    "\n",
    "def mut_freq_timesteps(N_range, fitness_range, sim_n, time_steps):\n",
    "    \"\"\" \n",
    "\n",
    "    The results contain a dataframe (timesteps x simulation num) for \n",
    "    each unique combination N_range and fitness_range. \n",
    "\n",
    "    \"\"\"\n",
    "    results_df = pd.DataFrame(columns = [\"timepoint\", \"mut_prop\", \"pop_size\", \"fitness\"])\n",
    "    \n",
    "    for i, N in enumerate(N_range):\n",
    "        for j, fitness in enumerate(fitness_range):\n",
    "            sim_dict = {}\n",
    "            for sim in range(sim_n):\n",
    "                # run moran algorithm to extract mutant allele frequency after time_steps\n",
    "                mut_prop = moran_selection(N = N, \n",
    "                                         i = round(N/2), \n",
    "                                         fitness = fitness, \n",
    "                                         time_steps = time_steps, \n",
    "                                         seed = sim)\n",
    "                sim_dict[sim] = mut_prop # build a dictionary of simulation entries\n",
    "            # Make df with cols=timesteps and rows = simulation n\n",
    "            sim_df = pd.DataFrame.transpose(pd.DataFrame(sim_dict))\n",
    "            # Melt df to have col for timepoint and col for mutation proportion\n",
    "            sim_df = pd.melt(sim_df, var_name = \"timepoint\", value_name = \"mut_prop\")\n",
    "            sim_df['pop_size'] = [str(N)] * sim_n * time_steps # new column with N (population size) value\n",
    "            sim_df['fitness'] = [str(fitness)] * sim_n * time_steps # new column with fitness value\n",
    "            results_df = results_df.append(sim_df)\n",
    "    return(results_df)\n",
    "\n",
    "mut_freq_100steps = mut_freq_timesteps(N_range = N_range, fitness_range = fitness_range,\n",
    "                                  sim_n = sim_n, time_steps = 100)\n",
    "mut_freq_5000steps = mut_freq_timesteps(N_range = N_range, fitness_range = fitness_range,\n",
    "                                  sim_n = sim_n, time_steps = 5000)"
   ]
  },
  {
   "cell_type": "markdown",
   "metadata": {},
   "source": [
    "Let's take a look at what these results look like. We'll see that there's 20 entries (`sim_n`) containing the mutant allele frequency for each parameter combination, at each timestep,"
   ]
  },
  {
   "cell_type": "code",
   "execution_count": 19,
   "metadata": {},
   "outputs": [
    {
     "data": {
      "text/plain": [
       "1800000"
      ]
     },
     "execution_count": 19,
     "metadata": {},
     "output_type": "execute_result"
    }
   ],
   "source": [
    "mut_freq_5000steps.tail()"
   ]
  },
  {
   "cell_type": "markdown",
   "metadata": {},
   "source": [
    "Now, let's plot the results of this parameter sweep. Using seaborn, this takes a significant amount of time for the dataframe containing 5000 timesteps for each parameter, which is why we also have a dataframe contianing only 100 timesteps. \n",
    "\n",
    "Below, we'll make a separate plot demonstrating how the mutant allele frequency changes over time for each population size. The confidence intervals represent variation between simulations, and they are automaticaly calculated because there are multiple samples (simulations) for each parameter combination. "
   ]
  },
  {
   "cell_type": "code",
   "execution_count": null,
   "metadata": {},
   "outputs": [],
   "source": [
    "s = [.25, .75, 2, 4]\n",
    "\n",
    "g = sns.relplot(x=\"timepoint\", y=\"mut_prop\", row=\"pop_size\",\n",
    "                  palette = sns.color_palette(\"mako_r\", len(fitness_range)), \n",
    "                  hue = \"fitness\", kind = \"line\", height = 6, aspect = 1.5,\n",
    "                  data=mut_freq_5000steps)\n",
    "plt.subplots_adjust(top=0.93) # adjusts main title to not overlap with subtitles\n",
    "g.fig.suptitle(\"Moran Process, Simulations = 20\", fontsize=15)\n",
    "g.set_axis_labels(x_var='Time Point', y_var='Mutant Allele Frequency');\n"
   ]
  },
  {
   "cell_type": "markdown",
   "metadata": {},
   "source": [
    "Now we're going to plot time to fixation. Gathering the results will be a function similar to `mut_freq_timesteps`, except we'll set `stopFixation = True` and we'll store the number of timesteps used by each simulation instead of the mutation allele frequencies over time. "
   ]
  },
  {
   "cell_type": "code",
   "execution_count": 50,
   "metadata": {},
   "outputs": [
    {
     "ename": "KeyboardInterrupt",
     "evalue": "",
     "output_type": "error",
     "traceback": [
      "\u001b[0;31m---------------------------------------------------------------------------\u001b[0m",
      "\u001b[0;31mKeyboardInterrupt\u001b[0m                         Traceback (most recent call last)",
      "\u001b[0;32m<ipython-input-50-7838b162341c>\u001b[0m in \u001b[0;36m<module>\u001b[0;34m\u001b[0m\n\u001b[1;32m     39\u001b[0m     \u001b[0;32mreturn\u001b[0m\u001b[0;34m(\u001b[0m\u001b[0mresults_df\u001b[0m\u001b[0;34m)\u001b[0m\u001b[0;34m\u001b[0m\u001b[0;34m\u001b[0m\u001b[0m\n\u001b[1;32m     40\u001b[0m \u001b[0;34m\u001b[0m\u001b[0m\n\u001b[0;32m---> 41\u001b[0;31m \u001b[0mtime2fix_results\u001b[0m \u001b[0;34m=\u001b[0m \u001b[0mmut_fix_time\u001b[0m\u001b[0;34m(\u001b[0m\u001b[0mN_range\u001b[0m \u001b[0;34m=\u001b[0m \u001b[0mN_range\u001b[0m\u001b[0;34m,\u001b[0m \u001b[0mfitness_range\u001b[0m \u001b[0;34m=\u001b[0m \u001b[0mfitness_range\u001b[0m\u001b[0;34m,\u001b[0m \u001b[0msim_n\u001b[0m \u001b[0;34m=\u001b[0m \u001b[0msim_n\u001b[0m\u001b[0;34m)\u001b[0m\u001b[0;34m\u001b[0m\u001b[0;34m\u001b[0m\u001b[0m\n\u001b[0m",
      "\u001b[0;32m<ipython-input-50-7838b162341c>\u001b[0m in \u001b[0;36mmut_fix_time\u001b[0;34m(N_range, fitness_range, sim_n)\u001b[0m\n\u001b[1;32m     26\u001b[0m                                            \u001b[0mseed\u001b[0m \u001b[0;34m=\u001b[0m \u001b[0msim\u001b[0m\u001b[0;34m,\u001b[0m\u001b[0;34m\u001b[0m\u001b[0;34m\u001b[0m\u001b[0m\n\u001b[1;32m     27\u001b[0m                                            \u001b[0mtime_steps\u001b[0m \u001b[0;34m=\u001b[0m \u001b[0mfloat\u001b[0m\u001b[0;34m(\u001b[0m\u001b[0;34m'inf'\u001b[0m\u001b[0;34m)\u001b[0m\u001b[0;34m,\u001b[0m\u001b[0;34m\u001b[0m\u001b[0;34m\u001b[0m\u001b[0m\n\u001b[0;32m---> 28\u001b[0;31m                                           stopFixation = True)\n\u001b[0m\u001b[1;32m     29\u001b[0m                 \u001b[0mtime_list\u001b[0m\u001b[0;34m.\u001b[0m\u001b[0mappend\u001b[0m\u001b[0;34m(\u001b[0m\u001b[0mlen\u001b[0m\u001b[0;34m(\u001b[0m\u001b[0mmut_prop\u001b[0m\u001b[0;34m)\u001b[0m\u001b[0;34m)\u001b[0m\u001b[0;34m\u001b[0m\u001b[0;34m\u001b[0m\u001b[0m\n\u001b[1;32m     30\u001b[0m             \u001b[0;31m# Make df with cols=timesteps and rows = simulation n\u001b[0m\u001b[0;34m\u001b[0m\u001b[0;34m\u001b[0m\u001b[0;34m\u001b[0m\u001b[0m\n",
      "\u001b[0;32m<ipython-input-7-b12e495413e1>\u001b[0m in \u001b[0;36mmoran_selection\u001b[0;34m(N, i, fitness, time_steps, seed, stopFixation)\u001b[0m\n\u001b[1;32m     17\u001b[0m                 \u001b[0mscores\u001b[0m\u001b[0;34m.\u001b[0m\u001b[0mappend\u001b[0m\u001b[0;34m(\u001b[0m\u001b[0mfitness\u001b[0m\u001b[0;34m)\u001b[0m\u001b[0;34m\u001b[0m\u001b[0;34m\u001b[0m\u001b[0m\n\u001b[1;32m     18\u001b[0m         \u001b[0mtotal_score\u001b[0m \u001b[0;34m=\u001b[0m \u001b[0msum\u001b[0m\u001b[0;34m(\u001b[0m\u001b[0mscores\u001b[0m\u001b[0;34m)\u001b[0m\u001b[0;34m\u001b[0m\u001b[0;34m\u001b[0m\u001b[0m\n\u001b[0;32m---> 19\u001b[0;31m         \u001b[0mprobabilities\u001b[0m \u001b[0;34m=\u001b[0m \u001b[0;34m[\u001b[0m\u001b[0mscore\u001b[0m\u001b[0;34m/\u001b[0m\u001b[0mtotal_score\u001b[0m \u001b[0;32mfor\u001b[0m \u001b[0mscore\u001b[0m \u001b[0;32min\u001b[0m \u001b[0mscores\u001b[0m\u001b[0;34m]\u001b[0m \u001b[0;31m# convert fitness scores into probabilities\u001b[0m\u001b[0;34m\u001b[0m\u001b[0;34m\u001b[0m\u001b[0m\n\u001b[0m\u001b[1;32m     20\u001b[0m         \u001b[0mreproduce_index\u001b[0m \u001b[0;34m=\u001b[0m \u001b[0mnp\u001b[0m\u001b[0;34m.\u001b[0m\u001b[0mrandom\u001b[0m\u001b[0;34m.\u001b[0m\u001b[0mchoice\u001b[0m\u001b[0;34m(\u001b[0m\u001b[0mrange\u001b[0m\u001b[0;34m(\u001b[0m\u001b[0mN\u001b[0m\u001b[0;34m)\u001b[0m\u001b[0;34m,\u001b[0m \u001b[0mp\u001b[0m\u001b[0;34m=\u001b[0m\u001b[0mprobabilities\u001b[0m\u001b[0;34m)\u001b[0m \u001b[0;31m# choose which individual to reproduce weighted by fitness score\u001b[0m\u001b[0;34m\u001b[0m\u001b[0;34m\u001b[0m\u001b[0m\n\u001b[1;32m     21\u001b[0m         \u001b[0meliminate_index\u001b[0m \u001b[0;34m=\u001b[0m \u001b[0mnp\u001b[0m\u001b[0;34m.\u001b[0m\u001b[0mrandom\u001b[0m\u001b[0;34m.\u001b[0m\u001b[0mrandint\u001b[0m\u001b[0;34m(\u001b[0m\u001b[0mN\u001b[0m\u001b[0;34m)\u001b[0m \u001b[0;31m# who gets eliminated is completely random still\u001b[0m\u001b[0;34m\u001b[0m\u001b[0;34m\u001b[0m\u001b[0m\n",
      "\u001b[0;32m<ipython-input-7-b12e495413e1>\u001b[0m in \u001b[0;36m<listcomp>\u001b[0;34m(.0)\u001b[0m\n\u001b[1;32m     17\u001b[0m                 \u001b[0mscores\u001b[0m\u001b[0;34m.\u001b[0m\u001b[0mappend\u001b[0m\u001b[0;34m(\u001b[0m\u001b[0mfitness\u001b[0m\u001b[0;34m)\u001b[0m\u001b[0;34m\u001b[0m\u001b[0;34m\u001b[0m\u001b[0m\n\u001b[1;32m     18\u001b[0m         \u001b[0mtotal_score\u001b[0m \u001b[0;34m=\u001b[0m \u001b[0msum\u001b[0m\u001b[0;34m(\u001b[0m\u001b[0mscores\u001b[0m\u001b[0;34m)\u001b[0m\u001b[0;34m\u001b[0m\u001b[0;34m\u001b[0m\u001b[0m\n\u001b[0;32m---> 19\u001b[0;31m         \u001b[0mprobabilities\u001b[0m \u001b[0;34m=\u001b[0m \u001b[0;34m[\u001b[0m\u001b[0mscore\u001b[0m\u001b[0;34m/\u001b[0m\u001b[0mtotal_score\u001b[0m \u001b[0;32mfor\u001b[0m \u001b[0mscore\u001b[0m \u001b[0;32min\u001b[0m \u001b[0mscores\u001b[0m\u001b[0;34m]\u001b[0m \u001b[0;31m# convert fitness scores into probabilities\u001b[0m\u001b[0;34m\u001b[0m\u001b[0;34m\u001b[0m\u001b[0m\n\u001b[0m\u001b[1;32m     20\u001b[0m         \u001b[0mreproduce_index\u001b[0m \u001b[0;34m=\u001b[0m \u001b[0mnp\u001b[0m\u001b[0;34m.\u001b[0m\u001b[0mrandom\u001b[0m\u001b[0;34m.\u001b[0m\u001b[0mchoice\u001b[0m\u001b[0;34m(\u001b[0m\u001b[0mrange\u001b[0m\u001b[0;34m(\u001b[0m\u001b[0mN\u001b[0m\u001b[0;34m)\u001b[0m\u001b[0;34m,\u001b[0m \u001b[0mp\u001b[0m\u001b[0;34m=\u001b[0m\u001b[0mprobabilities\u001b[0m\u001b[0;34m)\u001b[0m \u001b[0;31m# choose which individual to reproduce weighted by fitness score\u001b[0m\u001b[0;34m\u001b[0m\u001b[0;34m\u001b[0m\u001b[0m\n\u001b[1;32m     21\u001b[0m         \u001b[0meliminate_index\u001b[0m \u001b[0;34m=\u001b[0m \u001b[0mnp\u001b[0m\u001b[0;34m.\u001b[0m\u001b[0mrandom\u001b[0m\u001b[0;34m.\u001b[0m\u001b[0mrandint\u001b[0m\u001b[0;34m(\u001b[0m\u001b[0mN\u001b[0m\u001b[0;34m)\u001b[0m \u001b[0;31m# who gets eliminated is completely random still\u001b[0m\u001b[0;34m\u001b[0m\u001b[0;34m\u001b[0m\u001b[0m\n",
      "\u001b[0;31mKeyboardInterrupt\u001b[0m: "
     ]
    }
   ],
   "source": [
    "# time_steps = 5000\n",
    "\n",
    "fitness_range = [0.5, 0.75, 0.9, 0.99, 1, 1.01, 1.1, 1.5, 2] #fitness ratio of mutant:wt allele\n",
    "N_range = [100, 1000] # population size\n",
    "sim_n = 20 # how many times we run the same simulation with different seeds\n",
    "\n",
    "\n",
    "def mut_fix_time(N_range, fitness_range, sim_n):\n",
    "    \"\"\" \n",
    "\n",
    "    The results contain a dataframe (timesteps x simulation num) for \n",
    "    each unique combination N_range and fitness_range. \n",
    "\n",
    "    \"\"\"\n",
    "    results_df = pd.DataFrame(columns = [\"time2fix\", \"pop_size\", \"fitness\"])\n",
    "    \n",
    "    for i, N in enumerate(N_range):\n",
    "        for j, fitness in enumerate(fitness_range):\n",
    "            sim_dict = {}\n",
    "            time_list = []\n",
    "            for sim in range(sim_n):\n",
    "                # run moran algorithm to extract mutant allele frequency after time_steps\n",
    "                mut_prop = moran_selection(N = N, \n",
    "                                           i = round(N/2), \n",
    "                                           fitness = fitness,\n",
    "                                           seed = sim,\n",
    "                                           time_steps = float('inf'),\n",
    "                                          stopFixation = True)\n",
    "                time_list.append(len(mut_prop)) # List all times for each simulation run of a parameter combo\n",
    "            sim_dict['time2fix'] = [float(i) for i in time_list] # Times to float\n",
    "            sim_dict['pop_size'] = [str(N)] * sim_n # new column with N (population size) value\n",
    "            sim_dict['fitness'] = [str(fitness)] * sim_n # new column with fitness value\n",
    "            sim_df = pd.DataFrame.from_dict(sim_dict)\n",
    "            results_df = results_df.append(sim_df)\n",
    "    return(results_df)\n",
    "\n",
    "time2fix_results = mut_fix_time(N_range = N_range, fitness_range = fitness_range, sim_n = sim_n)"
   ]
  },
  {
   "cell_type": "code",
   "execution_count": 48,
   "metadata": {},
   "outputs": [
    {
     "data": {
      "text/plain": [
       "time2fix    float64\n",
       "pop_size     object\n",
       "fitness      object\n",
       "dtype: object"
      ]
     },
     "execution_count": 48,
     "metadata": {},
     "output_type": "execute_result"
    }
   ],
   "source": [
    "time2fix_results"
   ]
  },
  {
   "cell_type": "code",
   "execution_count": null,
   "metadata": {},
   "outputs": [],
   "source": [
    "\n",
    "# Draw a nested boxplot to show bills by day and time\n",
    "g = sns.boxplot(x=\"fitness\", y=\"time2fix\",\n",
    "            hue=\"pop_size\", \n",
    "            palette=sns.color_palette(\"mako_r\", len(fitness_range)),\n",
    "            data=time2fix_results)\n",
    "g.set_ylabels(\"Time to Fixation\") \n",
    "g.set_xlabels(\"Fitness\")\n",
    "plt_title(\"Time to Fixation across Fitness and Pop Size Parameters\")\n",
    "sns.despine(offset=10, trim=True)\n",
    "\n"
   ]
  },
  {
   "cell_type": "code",
   "execution_count": null,
   "metadata": {},
   "outputs": [],
   "source": []
  }
 ],
 "metadata": {
  "kernelspec": {
   "display_name": "Python 3",
   "language": "python",
   "name": "python3"
  },
  "language_info": {
   "codemirror_mode": {
    "name": "ipython",
    "version": 3
   },
   "file_extension": ".py",
   "mimetype": "text/x-python",
   "name": "python",
   "nbconvert_exporter": "python",
   "pygments_lexer": "ipython3",
   "version": "3.7.3"
  }
 },
 "nbformat": 4,
 "nbformat_minor": 4
}
